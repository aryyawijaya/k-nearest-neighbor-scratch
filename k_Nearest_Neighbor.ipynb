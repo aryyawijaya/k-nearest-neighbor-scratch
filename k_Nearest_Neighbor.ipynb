{
  "cells": [
    {
      "cell_type": "markdown",
      "metadata": {
        "id": "VX0rVdEj5nO7"
      },
      "source": [
        "## Import Library"
      ]
    },
    {
      "cell_type": "code",
      "execution_count": 3,
      "metadata": {
        "id": "HYRKUvTl5sTy"
      },
      "outputs": [],
      "source": [
        "from google.colab import files\n",
        "import io\n",
        "import math\n",
        "import matplotlib.pyplot as plt\n",
        "import pandas as pd\n",
        "import random\n",
        "import seaborn as sns"
      ]
    },
    {
      "cell_type": "markdown",
      "metadata": {
        "id": "PhmUveCO5uix"
      },
      "source": [
        "## Read Input from File"
      ]
    },
    {
      "cell_type": "code",
      "execution_count": 4,
      "metadata": {
        "colab": {
          "base_uri": "https://localhost:8080/",
          "resources": {
            "http://localhost:8080/nbextensions/google.colab/files.js": {
              "data": "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",
              "ok": true,
              "headers": [
                [
                  "content-type",
                  "application/javascript"
                ]
              ],
              "status": 200,
              "status_text": ""
            }
          },
          "height": 73
        },
        "id": "VFJ-0ohB5xl2",
        "outputId": "efb39f7e-b2e3-4a60-d4cc-33b89e4ef167"
      },
      "outputs": [
        {
          "output_type": "display_data",
          "data": {
            "text/plain": [
              "<IPython.core.display.HTML object>"
            ],
            "text/html": [
              "\n",
              "     <input type=\"file\" id=\"files-a49a6438-2ca3-4a40-bfaa-e7e7f7de24b1\" name=\"files[]\" multiple disabled\n",
              "        style=\"border:none\" />\n",
              "     <output id=\"result-a49a6438-2ca3-4a40-bfaa-e7e7f7de24b1\">\n",
              "      Upload widget is only available when the cell has been executed in the\n",
              "      current browser session. Please rerun this cell to enable.\n",
              "      </output>\n",
              "      <script src=\"/nbextensions/google.colab/files.js\"></script> "
            ]
          },
          "metadata": {}
        },
        {
          "output_type": "stream",
          "name": "stdout",
          "text": [
            "Saving traintest.xlsx to traintest.xlsx\n"
          ]
        }
      ],
      "source": [
        "uploaded = files.upload()"
      ]
    },
    {
      "cell_type": "markdown",
      "metadata": {
        "id": "y4NCUCk064yD"
      },
      "source": [
        "### Train Data"
      ]
    },
    {
      "cell_type": "code",
      "execution_count": 5,
      "metadata": {
        "id": "lDMeqBiB58Fd",
        "colab": {
          "base_uri": "https://localhost:8080/",
          "height": 423
        },
        "outputId": "e9f02eda-df72-4517-81eb-772254dac713"
      },
      "outputs": [
        {
          "output_type": "execute_result",
          "data": {
            "text/plain": [
              "     x1  x2  x3  y\n",
              "0    60  64   0  1\n",
              "1    54  60  11  0\n",
              "2    65  62  22  0\n",
              "3    34  60   0  1\n",
              "4    38  69  21  0\n",
              "..   ..  ..  .. ..\n",
              "291  59  64   1  1\n",
              "292  65  67   0  1\n",
              "293  53  65  12  0\n",
              "294  57  64   1  0\n",
              "295  54  59   7  1\n",
              "\n",
              "[296 rows x 4 columns]"
            ],
            "text/html": [
              "\n",
              "  <div id=\"df-30a2661d-f925-4bdd-8539-2030b34e658d\">\n",
              "    <div class=\"colab-df-container\">\n",
              "      <div>\n",
              "<style scoped>\n",
              "    .dataframe tbody tr th:only-of-type {\n",
              "        vertical-align: middle;\n",
              "    }\n",
              "\n",
              "    .dataframe tbody tr th {\n",
              "        vertical-align: top;\n",
              "    }\n",
              "\n",
              "    .dataframe thead th {\n",
              "        text-align: right;\n",
              "    }\n",
              "</style>\n",
              "<table border=\"1\" class=\"dataframe\">\n",
              "  <thead>\n",
              "    <tr style=\"text-align: right;\">\n",
              "      <th></th>\n",
              "      <th>x1</th>\n",
              "      <th>x2</th>\n",
              "      <th>x3</th>\n",
              "      <th>y</th>\n",
              "    </tr>\n",
              "  </thead>\n",
              "  <tbody>\n",
              "    <tr>\n",
              "      <th>0</th>\n",
              "      <td>60</td>\n",
              "      <td>64</td>\n",
              "      <td>0</td>\n",
              "      <td>1</td>\n",
              "    </tr>\n",
              "    <tr>\n",
              "      <th>1</th>\n",
              "      <td>54</td>\n",
              "      <td>60</td>\n",
              "      <td>11</td>\n",
              "      <td>0</td>\n",
              "    </tr>\n",
              "    <tr>\n",
              "      <th>2</th>\n",
              "      <td>65</td>\n",
              "      <td>62</td>\n",
              "      <td>22</td>\n",
              "      <td>0</td>\n",
              "    </tr>\n",
              "    <tr>\n",
              "      <th>3</th>\n",
              "      <td>34</td>\n",
              "      <td>60</td>\n",
              "      <td>0</td>\n",
              "      <td>1</td>\n",
              "    </tr>\n",
              "    <tr>\n",
              "      <th>4</th>\n",
              "      <td>38</td>\n",
              "      <td>69</td>\n",
              "      <td>21</td>\n",
              "      <td>0</td>\n",
              "    </tr>\n",
              "    <tr>\n",
              "      <th>...</th>\n",
              "      <td>...</td>\n",
              "      <td>...</td>\n",
              "      <td>...</td>\n",
              "      <td>...</td>\n",
              "    </tr>\n",
              "    <tr>\n",
              "      <th>291</th>\n",
              "      <td>59</td>\n",
              "      <td>64</td>\n",
              "      <td>1</td>\n",
              "      <td>1</td>\n",
              "    </tr>\n",
              "    <tr>\n",
              "      <th>292</th>\n",
              "      <td>65</td>\n",
              "      <td>67</td>\n",
              "      <td>0</td>\n",
              "      <td>1</td>\n",
              "    </tr>\n",
              "    <tr>\n",
              "      <th>293</th>\n",
              "      <td>53</td>\n",
              "      <td>65</td>\n",
              "      <td>12</td>\n",
              "      <td>0</td>\n",
              "    </tr>\n",
              "    <tr>\n",
              "      <th>294</th>\n",
              "      <td>57</td>\n",
              "      <td>64</td>\n",
              "      <td>1</td>\n",
              "      <td>0</td>\n",
              "    </tr>\n",
              "    <tr>\n",
              "      <th>295</th>\n",
              "      <td>54</td>\n",
              "      <td>59</td>\n",
              "      <td>7</td>\n",
              "      <td>1</td>\n",
              "    </tr>\n",
              "  </tbody>\n",
              "</table>\n",
              "<p>296 rows × 4 columns</p>\n",
              "</div>\n",
              "      <button class=\"colab-df-convert\" onclick=\"convertToInteractive('df-30a2661d-f925-4bdd-8539-2030b34e658d')\"\n",
              "              title=\"Convert this dataframe to an interactive table.\"\n",
              "              style=\"display:none;\">\n",
              "        \n",
              "  <svg xmlns=\"http://www.w3.org/2000/svg\" height=\"24px\"viewBox=\"0 0 24 24\"\n",
              "       width=\"24px\">\n",
              "    <path d=\"M0 0h24v24H0V0z\" fill=\"none\"/>\n",
              "    <path d=\"M18.56 5.44l.94 2.06.94-2.06 2.06-.94-2.06-.94-.94-2.06-.94 2.06-2.06.94zm-11 1L8.5 8.5l.94-2.06 2.06-.94-2.06-.94L8.5 2.5l-.94 2.06-2.06.94zm10 10l.94 2.06.94-2.06 2.06-.94-2.06-.94-.94-2.06-.94 2.06-2.06.94z\"/><path d=\"M17.41 7.96l-1.37-1.37c-.4-.4-.92-.59-1.43-.59-.52 0-1.04.2-1.43.59L10.3 9.45l-7.72 7.72c-.78.78-.78 2.05 0 2.83L4 21.41c.39.39.9.59 1.41.59.51 0 1.02-.2 1.41-.59l7.78-7.78 2.81-2.81c.8-.78.8-2.07 0-2.86zM5.41 20L4 18.59l7.72-7.72 1.47 1.35L5.41 20z\"/>\n",
              "  </svg>\n",
              "      </button>\n",
              "      \n",
              "  <style>\n",
              "    .colab-df-container {\n",
              "      display:flex;\n",
              "      flex-wrap:wrap;\n",
              "      gap: 12px;\n",
              "    }\n",
              "\n",
              "    .colab-df-convert {\n",
              "      background-color: #E8F0FE;\n",
              "      border: none;\n",
              "      border-radius: 50%;\n",
              "      cursor: pointer;\n",
              "      display: none;\n",
              "      fill: #1967D2;\n",
              "      height: 32px;\n",
              "      padding: 0 0 0 0;\n",
              "      width: 32px;\n",
              "    }\n",
              "\n",
              "    .colab-df-convert:hover {\n",
              "      background-color: #E2EBFA;\n",
              "      box-shadow: 0px 1px 2px rgba(60, 64, 67, 0.3), 0px 1px 3px 1px rgba(60, 64, 67, 0.15);\n",
              "      fill: #174EA6;\n",
              "    }\n",
              "\n",
              "    [theme=dark] .colab-df-convert {\n",
              "      background-color: #3B4455;\n",
              "      fill: #D2E3FC;\n",
              "    }\n",
              "\n",
              "    [theme=dark] .colab-df-convert:hover {\n",
              "      background-color: #434B5C;\n",
              "      box-shadow: 0px 1px 3px 1px rgba(0, 0, 0, 0.15);\n",
              "      filter: drop-shadow(0px 1px 2px rgba(0, 0, 0, 0.3));\n",
              "      fill: #FFFFFF;\n",
              "    }\n",
              "  </style>\n",
              "\n",
              "      <script>\n",
              "        const buttonEl =\n",
              "          document.querySelector('#df-30a2661d-f925-4bdd-8539-2030b34e658d button.colab-df-convert');\n",
              "        buttonEl.style.display =\n",
              "          google.colab.kernel.accessAllowed ? 'block' : 'none';\n",
              "\n",
              "        async function convertToInteractive(key) {\n",
              "          const element = document.querySelector('#df-30a2661d-f925-4bdd-8539-2030b34e658d');\n",
              "          const dataTable =\n",
              "            await google.colab.kernel.invokeFunction('convertToInteractive',\n",
              "                                                     [key], {});\n",
              "          if (!dataTable) return;\n",
              "\n",
              "          const docLinkHtml = 'Like what you see? Visit the ' +\n",
              "            '<a target=\"_blank\" href=https://colab.research.google.com/notebooks/data_table.ipynb>data table notebook</a>'\n",
              "            + ' to learn more about interactive tables.';\n",
              "          element.innerHTML = '';\n",
              "          dataTable['output_type'] = 'display_data';\n",
              "          await google.colab.output.renderOutput(dataTable, element);\n",
              "          const docLink = document.createElement('div');\n",
              "          docLink.innerHTML = docLinkHtml;\n",
              "          element.appendChild(docLink);\n",
              "        }\n",
              "      </script>\n",
              "    </div>\n",
              "  </div>\n",
              "  "
            ]
          },
          "metadata": {},
          "execution_count": 5
        }
      ],
      "source": [
        "dfTrain = pd.read_excel(io.BytesIO(uploaded['traintest.xlsx']), sheet_name='train', usecols=[1, 2, 3, 4])\n",
        "dfTrain"
      ]
    },
    {
      "cell_type": "code",
      "execution_count": 6,
      "metadata": {
        "id": "EsTzqJ0iVSX2",
        "colab": {
          "base_uri": "https://localhost:8080/",
          "height": 390
        },
        "outputId": "0db2a00c-ad07-4985-fd4c-1ba6c0065732"
      },
      "outputs": [
        {
          "output_type": "stream",
          "name": "stdout",
          "text": [
            "1    218\n",
            "0     78\n",
            "Name: y, dtype: int64\n"
          ]
        },
        {
          "output_type": "stream",
          "name": "stderr",
          "text": [
            "/usr/local/lib/python3.7/dist-packages/seaborn/_decorators.py:43: FutureWarning: Pass the following variable as a keyword arg: x. From version 0.12, the only valid positional argument will be `data`, and passing other arguments without an explicit keyword will result in an error or misinterpretation.\n",
            "  FutureWarning\n"
          ]
        },
        {
          "output_type": "display_data",
          "data": {
            "text/plain": [
              "<Figure size 432x288 with 1 Axes>"
            ],
            "image/png": "[encoded data removed]"
          },
          "metadata": {
            "needs_background": "light"
          }
        }
      ],
      "source": [
        "print(dfTrain['y'].value_counts())\n",
        "sns.countplot(dfTrain['y'])\n",
        "plt.show()"
      ]
    },
    {
      "cell_type": "markdown",
      "metadata": {
        "id": "Wp3hTF3Nom16"
      },
      "source": [
        "#### Imbalance Data"
      ]
    },
    {
      "cell_type": "code",
      "execution_count": 7,
      "metadata": {
        "id": "WEkkng9jl2mZ"
      },
      "outputs": [],
      "source": [
        "class0 = dfTrain[dfTrain['y'] == 0]\n",
        "class0Over = class0.sample(218, replace=True, random_state=42)\n",
        "dfTrain = pd.concat([dfTrain[dfTrain['y'] == 1], class0Over])"
      ]
    },
    {
      "cell_type": "code",
      "execution_count": 8,
      "metadata": {
        "id": "fo4cQQnVL9qx",
        "colab": {
          "base_uri": "https://localhost:8080/",
          "height": 390
        },
        "outputId": "3710ad85-e6a9-49ea-98f3-40dfd8c4ad4a"
      },
      "outputs": [
        {
          "output_type": "stream",
          "name": "stdout",
          "text": [
            "1    218\n",
            "0    218\n",
            "Name: y, dtype: int64\n"
          ]
        },
        {
          "output_type": "stream",
          "name": "stderr",
          "text": [
            "/usr/local/lib/python3.7/dist-packages/seaborn/_decorators.py:43: FutureWarning: Pass the following variable as a keyword arg: x. From version 0.12, the only valid positional argument will be `data`, and passing other arguments without an explicit keyword will result in an error or misinterpretation.\n",
            "  FutureWarning\n"
          ]
        },
        {
          "output_type": "display_data",
          "data": {
            "text/plain": [
              "<Figure size 432x288 with 1 Axes>"
            ],
            "image/png": "[encoded data removed]"
          },
          "metadata": {
            "needs_background": "light"
          }
        }
      ],
      "source": [
        "print(dfTrain['y'].value_counts())\n",
        "sns.countplot(dfTrain['y'])\n",
        "plt.show()"
      ]
    },
    {
      "cell_type": "code",
      "execution_count": 9,
      "metadata": {
        "id": "Ocm208TSnAF4",
        "colab": {
          "base_uri": "https://localhost:8080/",
          "height": 423
        },
        "outputId": "c4c85f52-56ef-426e-9d03-c1137a0a521d"
      },
      "outputs": [
        {
          "output_type": "execute_result",
          "data": {
            "text/plain": [
              "     x1  x2  x3  y\n",
              "0    54  60  11  0\n",
              "1    69  65   0  1\n",
              "2    60  59  17  0\n",
              "3    53  58   4  0\n",
              "4    51  59  13  0\n",
              "..   ..  ..  .. ..\n",
              "431  39  63   4  1\n",
              "432  70  68   0  1\n",
              "433  62  59  13  0\n",
              "434  57  62  14  0\n",
              "435  64  65  22  1\n",
              "\n",
              "[436 rows x 4 columns]"
            ],
            "text/html": [
              "\n",
              "  <div id=\"df-5d117f44-8055-44dd-81f7-4c4e6a7b131f\">\n",
              "    <div class=\"colab-df-container\">\n",
              "      <div>\n",
              "<style scoped>\n",
              "    .dataframe tbody tr th:only-of-type {\n",
              "        vertical-align: middle;\n",
              "    }\n",
              "\n",
              "    .dataframe tbody tr th {\n",
              "        vertical-align: top;\n",
              "    }\n",
              "\n",
              "    .dataframe thead th {\n",
              "        text-align: right;\n",
              "    }\n",
              "</style>\n",
              "<table border=\"1\" class=\"dataframe\">\n",
              "  <thead>\n",
              "    <tr style=\"text-align: right;\">\n",
              "      <th></th>\n",
              "      <th>x1</th>\n",
              "      <th>x2</th>\n",
              "      <th>x3</th>\n",
              "      <th>y</th>\n",
              "    </tr>\n",
              "  </thead>\n",
              "  <tbody>\n",
              "    <tr>\n",
              "      <th>0</th>\n",
              "      <td>54</td>\n",
              "      <td>60</td>\n",
              "      <td>11</td>\n",
              "      <td>0</td>\n",
              "    </tr>\n",
              "    <tr>\n",
              "      <th>1</th>\n",
              "      <td>69</td>\n",
              "      <td>65</td>\n",
              "      <td>0</td>\n",
              "      <td>1</td>\n",
              "    </tr>\n",
              "    <tr>\n",
              "      <th>2</th>\n",
              "      <td>60</td>\n",
              "      <td>59</td>\n",
              "      <td>17</td>\n",
              "      <td>0</td>\n",
              "    </tr>\n",
              "    <tr>\n",
              "      <th>3</th>\n",
              "      <td>53</td>\n",
              "      <td>58</td>\n",
              "      <td>4</td>\n",
              "      <td>0</td>\n",
              "    </tr>\n",
              "    <tr>\n",
              "      <th>4</th>\n",
              "      <td>51</td>\n",
              "      <td>59</td>\n",
              "      <td>13</td>\n",
              "      <td>0</td>\n",
              "    </tr>\n",
              "    <tr>\n",
              "      <th>...</th>\n",
              "      <td>...</td>\n",
              "      <td>...</td>\n",
              "      <td>...</td>\n",
              "      <td>...</td>\n",
              "    </tr>\n",
              "    <tr>\n",
              "      <th>431</th>\n",
              "      <td>39</td>\n",
              "      <td>63</td>\n",
              "      <td>4</td>\n",
              "      <td>1</td>\n",
              "    </tr>\n",
              "    <tr>\n",
              "      <th>432</th>\n",
              "      <td>70</td>\n",
              "      <td>68</td>\n",
              "      <td>0</td>\n",
              "      <td>1</td>\n",
              "    </tr>\n",
              "    <tr>\n",
              "      <th>433</th>\n",
              "      <td>62</td>\n",
              "      <td>59</td>\n",
              "      <td>13</td>\n",
              "      <td>0</td>\n",
              "    </tr>\n",
              "    <tr>\n",
              "      <th>434</th>\n",
              "      <td>57</td>\n",
              "      <td>62</td>\n",
              "      <td>14</td>\n",
              "      <td>0</td>\n",
              "    </tr>\n",
              "    <tr>\n",
              "      <th>435</th>\n",
              "      <td>64</td>\n",
              "      <td>65</td>\n",
              "      <td>22</td>\n",
              "      <td>1</td>\n",
              "    </tr>\n",
              "  </tbody>\n",
              "</table>\n",
              "<p>436 rows × 4 columns</p>\n",
              "</div>\n",
              "      <button class=\"colab-df-convert\" onclick=\"convertToInteractive('df-5d117f44-8055-44dd-81f7-4c4e6a7b131f')\"\n",
              "              title=\"Convert this dataframe to an interactive table.\"\n",
              "              style=\"display:none;\">\n",
              "        \n",
              "  <svg xmlns=\"http://www.w3.org/2000/svg\" height=\"24px\"viewBox=\"0 0 24 24\"\n",
              "       width=\"24px\">\n",
              "    <path d=\"M0 0h24v24H0V0z\" fill=\"none\"/>\n",
              "    <path d=\"M18.56 5.44l.94 2.06.94-2.06 2.06-.94-2.06-.94-.94-2.06-.94 2.06-2.06.94zm-11 1L8.5 8.5l.94-2.06 2.06-.94-2.06-.94L8.5 2.5l-.94 2.06-2.06.94zm10 10l.94 2.06.94-2.06 2.06-.94-2.06-.94-.94-2.06-.94 2.06-2.06.94z\"/><path d=\"M17.41 7.96l-1.37-1.37c-.4-.4-.92-.59-1.43-.59-.52 0-1.04.2-1.43.59L10.3 9.45l-7.72 7.72c-.78.78-.78 2.05 0 2.83L4 21.41c.39.39.9.59 1.41.59.51 0 1.02-.2 1.41-.59l7.78-7.78 2.81-2.81c.8-.78.8-2.07 0-2.86zM5.41 20L4 18.59l7.72-7.72 1.47 1.35L5.41 20z\"/>\n",
              "  </svg>\n",
              "      </button>\n",
              "      \n",
              "  <style>\n",
              "    .colab-df-container {\n",
              "      display:flex;\n",
              "      flex-wrap:wrap;\n",
              "      gap: 12px;\n",
              "    }\n",
              "\n",
              "    .colab-df-convert {\n",
              "      background-color: #E8F0FE;\n",
              "      border: none;\n",
              "      border-radius: 50%;\n",
              "      cursor: pointer;\n",
              "      display: none;\n",
              "      fill: #1967D2;\n",
              "      height: 32px;\n",
              "      padding: 0 0 0 0;\n",
              "      width: 32px;\n",
              "    }\n",
              "\n",
              "    .colab-df-convert:hover {\n",
              "      background-color: #E2EBFA;\n",
              "      box-shadow: 0px 1px 2px rgba(60, 64, 67, 0.3), 0px 1px 3px 1px rgba(60, 64, 67, 0.15);\n",
              "      fill: #174EA6;\n",
              "    }\n",
              "\n",
              "    [theme=dark] .colab-df-convert {\n",
              "      background-color: #3B4455;\n",
              "      fill: #D2E3FC;\n",
              "    }\n",
              "\n",
              "    [theme=dark] .colab-df-convert:hover {\n",
              "      background-color: #434B5C;\n",
              "      box-shadow: 0px 1px 3px 1px rgba(0, 0, 0, 0.15);\n",
              "      filter: drop-shadow(0px 1px 2px rgba(0, 0, 0, 0.3));\n",
              "      fill: #FFFFFF;\n",
              "    }\n",
              "  </style>\n",
              "\n",
              "      <script>\n",
              "        const buttonEl =\n",
              "          document.querySelector('#df-5d117f44-8055-44dd-81f7-4c4e6a7b131f button.colab-df-convert');\n",
              "        buttonEl.style.display =\n",
              "          google.colab.kernel.accessAllowed ? 'block' : 'none';\n",
              "\n",
              "        async function convertToInteractive(key) {\n",
              "          const element = document.querySelector('#df-5d117f44-8055-44dd-81f7-4c4e6a7b131f');\n",
              "          const dataTable =\n",
              "            await google.colab.kernel.invokeFunction('convertToInteractive',\n",
              "                                                     [key], {});\n",
              "          if (!dataTable) return;\n",
              "\n",
              "          const docLinkHtml = 'Like what you see? Visit the ' +\n",
              "            '<a target=\"_blank\" href=https://colab.research.google.com/notebooks/data_table.ipynb>data table notebook</a>'\n",
              "            + ' to learn more about interactive tables.';\n",
              "          element.innerHTML = '';\n",
              "          dataTable['output_type'] = 'display_data';\n",
              "          await google.colab.output.renderOutput(dataTable, element);\n",
              "          const docLink = document.createElement('div');\n",
              "          docLink.innerHTML = docLinkHtml;\n",
              "          element.appendChild(docLink);\n",
              "        }\n",
              "      </script>\n",
              "    </div>\n",
              "  </div>\n",
              "  "
            ]
          },
          "metadata": {},
          "execution_count": 9
        }
      ],
      "source": [
        "# shuffle\n",
        "dfTrain = dfTrain.sample(frac=1, random_state=42)\n",
        "dfTrain = dfTrain.reset_index()\n",
        "dfTrain.drop('index', inplace=True, axis=1)\n",
        "dfTrain"
      ]
    },
    {
      "cell_type": "markdown",
      "metadata": {
        "id": "34lbkIoH67sB"
      },
      "source": [
        "### Test Data"
      ]
    },
    {
      "cell_type": "code",
      "execution_count": 10,
      "metadata": {
        "id": "6Pk1hJNy6-LP",
        "colab": {
          "base_uri": "https://localhost:8080/",
          "height": 363
        },
        "outputId": "adf758d9-aac2-41ef-b366-3d389509096a"
      },
      "outputs": [
        {
          "output_type": "execute_result",
          "data": {
            "text/plain": [
              "   x1  x2  x3\n",
              "0  43  59   2\n",
              "1  67  66   0\n",
              "2  58  60   3\n",
              "3  49  63   3\n",
              "4  45  60   0\n",
              "5  54  58   1\n",
              "6  56  66   3\n",
              "7  42  69   1\n",
              "8  50  59   2\n",
              "9  59  60   0"
            ],
            "text/html": [
              "\n",
              "  <div id=\"df-dd0bee5f-66bc-452c-a1e6-175943e31dfc\">\n",
              "    <div class=\"colab-df-container\">\n",
              "      <div>\n",
              "<style scoped>\n",
              "    .dataframe tbody tr th:only-of-type {\n",
              "        vertical-align: middle;\n",
              "    }\n",
              "\n",
              "    .dataframe tbody tr th {\n",
              "        vertical-align: top;\n",
              "    }\n",
              "\n",
              "    .dataframe thead th {\n",
              "        text-align: right;\n",
              "    }\n",
              "</style>\n",
              "<table border=\"1\" class=\"dataframe\">\n",
              "  <thead>\n",
              "    <tr style=\"text-align: right;\">\n",
              "      <th></th>\n",
              "      <th>x1</th>\n",
              "      <th>x2</th>\n",
              "      <th>x3</th>\n",
              "    </tr>\n",
              "  </thead>\n",
              "  <tbody>\n",
              "    <tr>\n",
              "      <th>0</th>\n",
              "      <td>43</td>\n",
              "      <td>59</td>\n",
              "      <td>2</td>\n",
              "    </tr>\n",
              "    <tr>\n",
              "      <th>1</th>\n",
              "      <td>67</td>\n",
              "      <td>66</td>\n",
              "      <td>0</td>\n",
              "    </tr>\n",
              "    <tr>\n",
              "      <th>2</th>\n",
              "      <td>58</td>\n",
              "      <td>60</td>\n",
              "      <td>3</td>\n",
              "    </tr>\n",
              "    <tr>\n",
              "      <th>3</th>\n",
              "      <td>49</td>\n",
              "      <td>63</td>\n",
              "      <td>3</td>\n",
              "    </tr>\n",
              "    <tr>\n",
              "      <th>4</th>\n",
              "      <td>45</td>\n",
              "      <td>60</td>\n",
              "      <td>0</td>\n",
              "    </tr>\n",
              "    <tr>\n",
              "      <th>5</th>\n",
              "      <td>54</td>\n",
              "      <td>58</td>\n",
              "      <td>1</td>\n",
              "    </tr>\n",
              "    <tr>\n",
              "      <th>6</th>\n",
              "      <td>56</td>\n",
              "      <td>66</td>\n",
              "      <td>3</td>\n",
              "    </tr>\n",
              "    <tr>\n",
              "      <th>7</th>\n",
              "      <td>42</td>\n",
              "      <td>69</td>\n",
              "      <td>1</td>\n",
              "    </tr>\n",
              "    <tr>\n",
              "      <th>8</th>\n",
              "      <td>50</td>\n",
              "      <td>59</td>\n",
              "      <td>2</td>\n",
              "    </tr>\n",
              "    <tr>\n",
              "      <th>9</th>\n",
              "      <td>59</td>\n",
              "      <td>60</td>\n",
              "      <td>0</td>\n",
              "    </tr>\n",
              "  </tbody>\n",
              "</table>\n",
              "</div>\n",
              "      <button class=\"colab-df-convert\" onclick=\"convertToInteractive('df-dd0bee5f-66bc-452c-a1e6-175943e31dfc')\"\n",
              "              title=\"Convert this dataframe to an interactive table.\"\n",
              "              style=\"display:none;\">\n",
              "        \n",
              "  <svg xmlns=\"http://www.w3.org/2000/svg\" height=\"24px\"viewBox=\"0 0 24 24\"\n",
              "       width=\"24px\">\n",
              "    <path d=\"M0 0h24v24H0V0z\" fill=\"none\"/>\n",
              "    <path d=\"M18.56 5.44l.94 2.06.94-2.06 2.06-.94-2.06-.94-.94-2.06-.94 2.06-2.06.94zm-11 1L8.5 8.5l.94-2.06 2.06-.94-2.06-.94L8.5 2.5l-.94 2.06-2.06.94zm10 10l.94 2.06.94-2.06 2.06-.94-2.06-.94-.94-2.06-.94 2.06-2.06.94z\"/><path d=\"M17.41 7.96l-1.37-1.37c-.4-.4-.92-.59-1.43-.59-.52 0-1.04.2-1.43.59L10.3 9.45l-7.72 7.72c-.78.78-.78 2.05 0 2.83L4 21.41c.39.39.9.59 1.41.59.51 0 1.02-.2 1.41-.59l7.78-7.78 2.81-2.81c.8-.78.8-2.07 0-2.86zM5.41 20L4 18.59l7.72-7.72 1.47 1.35L5.41 20z\"/>\n",
              "  </svg>\n",
              "      </button>\n",
              "      \n",
              "  <style>\n",
              "    .colab-df-container {\n",
              "      display:flex;\n",
              "      flex-wrap:wrap;\n",
              "      gap: 12px;\n",
              "    }\n",
              "\n",
              "    .colab-df-convert {\n",
              "      background-color: #E8F0FE;\n",
              "      border: none;\n",
              "      border-radius: 50%;\n",
              "      cursor: pointer;\n",
              "      display: none;\n",
              "      fill: #1967D2;\n",
              "      height: 32px;\n",
              "      padding: 0 0 0 0;\n",
              "      width: 32px;\n",
              "    }\n",
              "\n",
              "    .colab-df-convert:hover {\n",
              "      background-color: #E2EBFA;\n",
              "      box-shadow: 0px 1px 2px rgba(60, 64, 67, 0.3), 0px 1px 3px 1px rgba(60, 64, 67, 0.15);\n",
              "      fill: #174EA6;\n",
              "    }\n",
              "\n",
              "    [theme=dark] .colab-df-convert {\n",
              "      background-color: #3B4455;\n",
              "      fill: #D2E3FC;\n",
              "    }\n",
              "\n",
              "    [theme=dark] .colab-df-convert:hover {\n",
              "      background-color: #434B5C;\n",
              "      box-shadow: 0px 1px 3px 1px rgba(0, 0, 0, 0.15);\n",
              "      filter: drop-shadow(0px 1px 2px rgba(0, 0, 0, 0.3));\n",
              "      fill: #FFFFFF;\n",
              "    }\n",
              "  </style>\n",
              "\n",
              "      <script>\n",
              "        const buttonEl =\n",
              "          document.querySelector('#df-dd0bee5f-66bc-452c-a1e6-175943e31dfc button.colab-df-convert');\n",
              "        buttonEl.style.display =\n",
              "          google.colab.kernel.accessAllowed ? 'block' : 'none';\n",
              "\n",
              "        async function convertToInteractive(key) {\n",
              "          const element = document.querySelector('#df-dd0bee5f-66bc-452c-a1e6-175943e31dfc');\n",
              "          const dataTable =\n",
              "            await google.colab.kernel.invokeFunction('convertToInteractive',\n",
              "                                                     [key], {});\n",
              "          if (!dataTable) return;\n",
              "\n",
              "          const docLinkHtml = 'Like what you see? Visit the ' +\n",
              "            '<a target=\"_blank\" href=https://colab.research.google.com/notebooks/data_table.ipynb>data table notebook</a>'\n",
              "            + ' to learn more about interactive tables.';\n",
              "          element.innerHTML = '';\n",
              "          dataTable['output_type'] = 'display_data';\n",
              "          await google.colab.output.renderOutput(dataTable, element);\n",
              "          const docLink = document.createElement('div');\n",
              "          docLink.innerHTML = docLinkHtml;\n",
              "          element.appendChild(docLink);\n",
              "        }\n",
              "      </script>\n",
              "    </div>\n",
              "  </div>\n",
              "  "
            ]
          },
          "metadata": {},
          "execution_count": 10
        }
      ],
      "source": [
        "dfTest = pd.read_excel(io.BytesIO(uploaded['traintest.xlsx']), sheet_name='test', usecols=[1, 2, 3])\n",
        "dfTest"
      ]
    },
    {
      "cell_type": "markdown",
      "metadata": {
        "id": "PenSeLCrIG0G"
      },
      "source": [
        "## Proccess"
      ]
    },
    {
      "cell_type": "markdown",
      "metadata": {
        "id": "gsh-OBX3II9t"
      },
      "source": [
        "### Training"
      ]
    },
    {
      "cell_type": "markdown",
      "metadata": {
        "id": "Pe3SRcuFNeVn"
      },
      "source": [
        "#### L1 Distance (Manhattan Distance)\n",
        "![image.png](data:image/png;base64,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)"
      ]
    },
    {
      "cell_type": "code",
      "execution_count": 11,
      "metadata": {
        "id": "g_cRhQMBYpPQ",
        "colab": {
          "base_uri": "https://localhost:8080/"
        },
        "outputId": "31c8da07-770f-4261-b428-3439d9d236ca"
      },
      "outputs": [
        {
          "output_type": "stream",
          "name": "stdout",
          "text": [
            "x1    60\n",
            "x2    64\n",
            "x3     0\n",
            "dtype: int64\n",
            "x1    59\n",
            "x2    64\n",
            "x3     1\n",
            "dtype: int64\n"
          ]
        },
        {
          "output_type": "execute_result",
          "data": {
            "text/plain": [
              "2"
            ]
          },
          "metadata": {},
          "execution_count": 11
        }
      ],
      "source": [
        "def L1(testData, trainData):\n",
        "  sum = 0\n",
        "  for i in range(0, 3):\n",
        "    sum += abs(testData[i] - trainData[i])\n",
        "\n",
        "  return sum\n",
        "\n",
        "s1 = pd.Series({ 'x1':60, 'x2':64, 'x3':0 })\n",
        "s2 = pd.Series({ 'x1':59, 'x2':64, 'x3':1 })\n",
        "print(s1)\n",
        "print(s2)\n",
        "L1(s1, s2)"
      ]
    },
    {
      "cell_type": "markdown",
      "metadata": {
        "id": "u-wM4_eTINXL"
      },
      "source": [
        "#### L2 Distance (Euclidean Distance)\n",
        "![image.png](data:image/png;base64,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)"
      ]
    },
    {
      "cell_type": "code",
      "execution_count": 12,
      "metadata": {
        "id": "q74hXzZIIKMk",
        "colab": {
          "base_uri": "https://localhost:8080/"
        },
        "outputId": "a11fd717-54b3-4a19-e366-1088898e814b"
      },
      "outputs": [
        {
          "output_type": "stream",
          "name": "stdout",
          "text": [
            "x1    60\n",
            "x2    64\n",
            "x3     0\n",
            "dtype: int64\n",
            "x1    59\n",
            "x2    64\n",
            "x3     1\n",
            "dtype: int64\n"
          ]
        },
        {
          "output_type": "execute_result",
          "data": {
            "text/plain": [
              "1.4142135623730951"
            ]
          },
          "metadata": {},
          "execution_count": 12
        }
      ],
      "source": [
        "def L2(testData, trainData):\n",
        "  sum = 0\n",
        "  for i in range(0, 3):\n",
        "    sum += (testData[i] - trainData[i])**2\n",
        "\n",
        "  return math.sqrt(sum)\n",
        "\n",
        "s1 = pd.Series({ 'x1':60, 'x2':64, 'x3':0 })\n",
        "s2 = pd.Series({ 'x1':59, 'x2':64, 'x3':1 })\n",
        "print(s1)\n",
        "print(s2)\n",
        "L2(s1, s2)"
      ]
    },
    {
      "cell_type": "markdown",
      "metadata": {
        "id": "XYayGaIgPsY3"
      },
      "source": [
        "#### Most Frequent Neighbor in k Neighbor"
      ]
    },
    {
      "cell_type": "code",
      "execution_count": 13,
      "metadata": {
        "id": "MApgCR-TPvfV"
      },
      "outputs": [],
      "source": [
        "def mostFreqNeigh(distResult, k):\n",
        "  # sort\n",
        "  # print(distResult)\n",
        "  distResult.sort(key=lambda row: (row[0]))\n",
        "  # print(distResult)\n",
        "  # find most frequent neighbor in k neighbor\n",
        "  countClass0 = 0\n",
        "  countClass1 = 0\n",
        "  topK = distResult[0:k]\n",
        "  for top in topK:\n",
        "    if top[1] == 0:\n",
        "      countClass0 += 1\n",
        "    else:\n",
        "      countClass1 += 1\n",
        "  \n",
        "  # print(countClass0, countClass1)\n",
        "  if countClass0 > countClass1:\n",
        "    return 0\n",
        "  elif countClass1 > countClass0:\n",
        "    return 1"
      ]
    },
    {
      "cell_type": "markdown",
      "metadata": {
        "id": "6O6D8u4XOKzB"
      },
      "source": [
        "### Hyperparameter Observation"
      ]
    },
    {
      "cell_type": "markdown",
      "metadata": {
        "id": "8tH2pr2MOSmu"
      },
      "source": [
        "#### Split Train Data\n",
        "\n",
        "![image.png](data:image/png;base64,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)"
      ]
    },
    {
      "cell_type": "code",
      "execution_count": 14,
      "metadata": {
        "id": "-CQCKXO0OtYn",
        "colab": {
          "base_uri": "https://localhost:8080/"
        },
        "outputId": "533ccb96-1941-4dc8-b3fd-647cb4ccf114"
      },
      "outputs": [
        {
          "output_type": "execute_result",
          "data": {
            "text/plain": [
              "436"
            ]
          },
          "metadata": {},
          "execution_count": 14
        }
      ],
      "source": [
        "# use 5-fold\n",
        "# 80% train data, 20% validation data\n",
        "\n",
        "# normal\n",
        "# dfFold1 = dfTrain[0:60]\n",
        "# dfFold2 = dfTrain[60:119]\n",
        "# dfFold3 = dfTrain[119:178]\n",
        "# dfFold4 = dfTrain[178:237]\n",
        "# dfFold5 = dfTrain[237:296]\n",
        "\n",
        "# oversampling\n",
        "dfFold1 = dfTrain[0:88]\n",
        "dfFold2 = dfTrain[88:175]\n",
        "dfFold3 = dfTrain[175:262]\n",
        "dfFold4 = dfTrain[262:349]\n",
        "dfFold5 = dfTrain[349:436]\n",
        "\n",
        "len(dfTrain)"
      ]
    },
    {
      "cell_type": "markdown",
      "metadata": {
        "id": "LdlU05_UV8Cq"
      },
      "source": [
        "#### Define Train Data and Validation Data"
      ]
    },
    {
      "cell_type": "code",
      "execution_count": 15,
      "metadata": {
        "id": "WfFgUlpB7DVB"
      },
      "outputs": [],
      "source": [
        "# train data and validation data\n",
        "def makeTrainAndVal(foldForValidation):\n",
        "  # new train data\n",
        "  trainSplit = [dfFold1, dfFold2, dfFold3, dfFold4, dfFold5]\n",
        "  val = trainSplit.pop(foldForValidation - 1)\n",
        "  dfTrainSplit = pd.concat(trainSplit)\n",
        "\n",
        "  # validation data\n",
        "  dfVal = val.copy()\n",
        "\n",
        "  return dfTrainSplit, dfVal"
      ]
    },
    {
      "cell_type": "markdown",
      "metadata": {
        "id": "ZfFv_R0a12a2"
      },
      "source": [
        "#### Evaluation Model"
      ]
    },
    {
      "cell_type": "code",
      "execution_count": 16,
      "metadata": {
        "id": "a6_3S8DJ19um"
      },
      "outputs": [],
      "source": [
        "def evalModel(pred, actual):\n",
        "  TP, FN, TN, FP = 0, 0, 0, 0\n",
        "  for idx in range(len(pred)):\n",
        "    if pred[idx] == actual.values[idx]:\n",
        "      if pred[idx] == 0:\n",
        "        TN += 1\n",
        "      else:\n",
        "        TP += 1\n",
        "    else:\n",
        "      if pred[idx] == 0:\n",
        "        FN += 1\n",
        "      else:\n",
        "        FP += 1\n",
        "  \n",
        "  return TP, FN, TN, FP"
      ]
    },
    {
      "cell_type": "markdown",
      "metadata": {
        "id": "f7OHyd4DO5rz"
      },
      "source": [
        "#### Find Best Hyperparameter (k)"
      ]
    },
    {
      "cell_type": "code",
      "execution_count": 17,
      "metadata": {
        "id": "rapUhoAbPGnp",
        "colab": {
          "base_uri": "https://localhost:8080/"
        },
        "outputId": "1369c848-e26d-47f4-e6be-f3ae4a99dcc5"
      },
      "outputs": [
        {
          "output_type": "stream",
          "name": "stdout",
          "text": [
            "> fold 5 as a validation: ...\n",
            "tab k for L1 (f1-score):\n",
            "[0, 0.7951807228915662, 0, 0.7764705882352941, 0, 0.7692307692307693, 0, 0.7341772151898734, 0, 0.735632183908046, 0, 0.6966292134831461, 0, 0.7045454545454545, 0, 0.7333333333333334, 0, 0.7191011235955057, 0, 0.7526881720430109, 0, 0.7311827956989247, 0, 0.711111111111111, 0, 0.7555555555555555, 0, 0.7555555555555555, 0, 0.7764705882352941, 0, 0.7499999999999999, 0, 0.7415730337078652, 0, 0.7311827956989247, 0, 0.7446808510638299, 0, 0.7391304347826086, 0, 0.7526881720430109, 0, 0.7446808510638299, 0, 0.7446808510638299, 0, 0.74, 0, 0.7272727272727273, 0, 0.693069306930693]\n",
            "tab k for L2 (f1-score):\n",
            "[0, 0.8, 0, 0.7857142857142858, 0, 0.7466666666666667, 0, 0.6933333333333334, 0, 0.6582278481012659, 0, 0.627906976744186, 0, 0.7000000000000001, 0, 0.7380952380952381, 0, 0.7586206896551724, 0, 0.7954545454545455, 0, 0.7333333333333334, 0, 0.7333333333333334, 0, 0.7415730337078652, 0, 0.7126436781609196, 0, 0.6976744186046512, 0, 0.6888888888888888, 0, 0.7191011235955057, 0, 0.7333333333333334, 0, 0.7526881720430109, 0, 0.7252747252747254, 0, 0.711111111111111, 0, 0.7032967032967034, 0, 0.7096774193548386, 0, 0.7173913043478259, 0, 0.7234042553191489, 0, 0.7692307692307692]\n",
            "\n",
            "> fold 4 as a validation: ...\n",
            "tab k for L1 (f1-score):\n",
            "[0, 0.8192771084337349, 0, 0.7058823529411765, 0, 0.7741935483870969, 0, 0.7578947368421052, 0, 0.7216494845360825, 0, 0.7446808510638298, 0, 0.7368421052631577, 0, 0.6938775510204082, 0, 0.6947368421052631, 0, 0.7010309278350516, 0, 0.7010309278350516, 0, 0.7010309278350516, 0, 0.6875, 0, 0.7010309278350516, 0, 0.6804123711340205, 0, 0.6938775510204082, 0, 0.6804123711340205, 0, 0.6666666666666666, 0, 0.6666666666666666, 0, 0.6736842105263158, 0, 0.6875, 0, 0.6736842105263158, 0, 0.6736842105263158, 0, 0.673469387755102, 0, 0.6868686868686867, 0, 0.6923076923076924]\n",
            "tab k for L2 (f1-score):\n",
            "[0, 0.8505747126436781, 0, 0.738095238095238, 0, 0.7640449438202247, 0, 0.7391304347826088, 0, 0.7422680412371134, 0, 0.7157894736842104, 0, 0.7216494845360825, 0, 0.7368421052631577, 0, 0.7083333333333334, 0, 0.7083333333333334, 0, 0.7142857142857142, 0, 0.6666666666666666, 0, 0.6526315789473685, 0, 0.6304347826086957, 0, 0.6451612903225806, 0, 0.6373626373626373, 0, 0.6595744680851063, 0, 0.6526315789473685, 0, 0.6875, 0, 0.6736842105263158, 0, 0.6736842105263158, 0, 0.6868686868686867, 0, 0.7010309278350516, 0, 0.6938775510204082, 0, 0.7000000000000001, 0, 0.6930693069306931]\n",
            "\n",
            "> fold 3 as a validation: ...\n",
            "tab k for L1 (f1-score):\n",
            "[0, 0.8571428571428571, 0, 0.7428571428571429, 0, 0.6956521739130435, 0, 0.6753246753246753, 0, 0.7000000000000001, 0, 0.5842696629213483, 0, 0.5842696629213483, 0, 0.6190476190476191, 0, 0.5617977528089888, 0, 0.5681818181818181, 0, 0.6153846153846154, 0, 0.6451612903225806, 0, 0.6739130434782609, 0, 0.6739130434782609, 0, 0.6739130434782609, 0, 0.6666666666666667, 0, 0.6382978723404255, 0, 0.6304347826086957, 0, 0.6597938144329897, 0, 0.6464646464646465, 0, 0.6262626262626262, 0, 0.62, 0, 0.6470588235294118, 0, 0.6599999999999999, 0, 0.6470588235294118, 0, 0.6407766990291263]\n",
            "tab k for L2 (f1-score):\n",
            "[0, 0.8421052631578947, 0, 0.7777777777777778, 0, 0.676056338028169, 0, 0.6756756756756757, 0, 0.6301369863013699, 0, 0.6904761904761904, 0, 0.6666666666666667, 0, 0.6526315789473683, 0, 0.6021505376344086, 0, 0.5714285714285714, 0, 0.5869565217391304, 0, 0.6067415730337078, 0, 0.6206896551724138, 0, 0.6292134831460675, 0, 0.6206896551724138, 0, 0.6373626373626374, 0, 0.6458333333333333, 0, 0.6956521739130435, 0, 0.6808510638297872, 0, 0.6458333333333333, 0, 0.6601941747572816, 0, 0.673076923076923, 0, 0.6732673267326732, 0, 0.6538461538461539, 0, 0.6538461538461539, 0, 0.6538461538461539]\n",
            "\n",
            "> fold 2 as a validation: ...\n",
            "tab k for L1 (f1-score):\n",
            "[0, 0.7951807228915662, 0, 0.761904761904762, 0, 0.761904761904762, 0, 0.7469879518072289, 0, 0.7228915662650603, 0, 0.7228915662650603, 0, 0.7380952380952381, 0, 0.6666666666666666, 0, 0.7333333333333334, 0, 0.7272727272727273, 0, 0.7415730337078652, 0, 0.7191011235955057, 0, 0.7045454545454545, 0, 0.7045454545454545, 0, 0.711111111111111, 0, 0.6966292134831461, 0, 0.6966292134831461, 0, 0.6966292134831461, 0, 0.711111111111111, 0, 0.7173913043478259, 0, 0.6956521739130435, 0, 0.6739130434782609, 0, 0.6947368421052632, 0, 0.6595744680851063, 0, 0.6526315789473683, 0, 0.673469387755102]\n",
            "tab k for L2 (f1-score):\n",
            "[0, 0.7804878048780488, 0, 0.7012987012987012, 0, 0.7160493827160495, 0, 0.7088607594936709, 0, 0.7407407407407408, 0, 0.6829268292682927, 0, 0.7058823529411765, 0, 0.7126436781609196, 0, 0.7045454545454545, 0, 0.7272727272727273, 0, 0.6896551724137931, 0, 0.735632183908046, 0, 0.7272727272727273, 0, 0.711111111111111, 0, 0.711111111111111, 0, 0.6888888888888888, 0, 0.7096774193548386, 0, 0.7252747252747254, 0, 0.6818181818181818, 0, 0.6666666666666666, 0, 0.6888888888888888, 0, 0.6956521739130435, 0, 0.6593406593406593, 0, 0.6666666666666666, 0, 0.6947368421052632, 0, 0.693877551020408]\n",
            "\n",
            "> fold 1 as a validation: ...\n",
            "tab k for L1 (f1-score):\n",
            "[0, 0.8048780487804877, 0, 0.6987951807228915, 0, 0.7228915662650603, 0, 0.6896551724137931, 0, 0.627906976744186, 0, 0.6067415730337078, 0, 0.5934065934065934, 0, 0.6086956521739131, 0, 0.6086956521739131, 0, 0.6086956521739131, 0, 0.5934065934065934, 0, 0.5934065934065934, 0, 0.6, 0, 0.6041666666666666, 0, 0.6521739130434783, 0, 0.6590909090909092, 0, 0.688888888888889, 0, 0.688888888888889, 0, 0.6521739130434783, 0, 0.6521739130434783, 0, 0.6444444444444444, 0, 0.6373626373626373, 0, 0.6808510638297872, 0, 0.6597938144329897, 0, 0.6458333333333334, 0, 0.6597938144329897]\n",
            "tab k for L2 (f1-score):\n",
            "[0, 0.8333333333333333, 0, 0.7294117647058824, 0, 0.674698795180723, 0, 0.7083333333333334, 0, 0.6736842105263158, 0, 0.6382978723404256, 0, 0.6458333333333334, 0, 0.6250000000000001, 0, 0.6521739130434783, 0, 0.6021505376344086, 0, 0.6382978723404256, 0, 0.5894736842105263, 0, 0.6304347826086957, 0, 0.6304347826086957, 0, 0.6222222222222223, 0, 0.6222222222222223, 0, 0.6521739130434783, 0, 0.6521739130434783, 0, 0.6444444444444444, 0, 0.6666666666666667, 0, 0.6595744680851064, 0, 0.6444444444444444, 0, 0.6526315789473685, 0, 0.6666666666666666, 0, 0.6734693877551019, 0, 0.6734693877551019]\n",
            "\n",
            "avgTabK L1:\n",
            "[0, 0.8143318920280423, 0, 0.7371820053322533, 0, 0.7447745639401464, 0, 0.7208079503155351, 0, 0.7016160422906751, 0, 0.6710425733534185, 0, 0.6714318108463584, 0, 0.664324164448388, 0, 0.6635329408034008, 0, 0.6715738595013041, 0, 0.67651559320661, 0, 0.6739622092541684, 0, 0.6843028107158542, 0, 0.6878423296161978, 0, 0.6988162054004331, 0, 0.693252868052226, 0, 0.6891602759108693, 0, 0.6827604694692645, 0, 0.6868852712636151, 0, 0.6857689018329751, 0, 0.681309483332625, 0, 0.6699281484862087, 0, 0.6882023582109216, 0, 0.6785675340546395, 0, 0.6719330299903055, 0, 0.6718833800911207]\n",
            "avgTabK L2:\n",
            "[0, 0.8213002228025909, 0, 0.746459553518377, 0, 0.7155032252823665, 0, 0.7050667073237246, 0, 0.6890115653813611, 0, 0.671079468502661, 0, 0.6880063674954519, 0, 0.6930425200933368, 0, 0.6851647856423695, 0, 0.6809279430247173, 0, 0.6725057228224793, 0, 0.6663694882304559, 0, 0.6745203555418141, 0, 0.662767567527098, 0, 0.6593717394865958, 0, 0.6549450549450548, 0, 0.6772720514824524, 0, 0.6918131449023898, 0, 0.6894603724270849, 0, 0.6756251204935415, 0, 0.6786905706737407, 0, 0.6806677863199602, 0, 0.6791895824421182, 0, 0.6796896685095442, 0, 0.6890913278051336, 0, 0.6966986337566252]\n"
          ]
        }
      ],
      "source": [
        "maxK = 52\n",
        "avgTabKL1 = [0 for x in range(0, maxK)]\n",
        "avgTabKL2 = [0 for x in range(0, maxK)]\n",
        "\n",
        "for foldForValidation in range(5, 0, -1):\n",
        "  # set i-th portion as validation data\n",
        "  dfTrainSplit, dfVal = makeTrainAndVal(foldForValidation)\n",
        "  print('> fold', foldForValidation, 'as a validation: ...')\n",
        "\n",
        "  # select hyperparameter\n",
        "  tabKL1 = [0 for x in range(0, maxK)]\n",
        "  tabKL2 = [0 for x in range(0, maxK)]\n",
        "  # use piegon hole principle --> class + 1\n",
        "  for k in range(1, maxK, 2): # 1 .. 3 .. 5 .. 7 ..\n",
        "    # test model on validation data\n",
        "    tabPredValL1 = []\n",
        "    tabPredValL2 = []\n",
        "    for val in range(len(dfVal)):\n",
        "      tabL1Score = []\n",
        "      tabL2Score = []\n",
        "      dfCurrVal = dfVal.iloc[val] # return Series\n",
        "      # print(dfCurrVal)\n",
        "      for train in range(len(dfTrainSplit)):\n",
        "        dfCurrTrain = dfTrainSplit.iloc[train] # return Series\n",
        "        # print(dfCurrTrain)\n",
        "\n",
        "        # save L2 score validation data\n",
        "        L1Score = L1(dfCurrVal, dfCurrTrain)\n",
        "        L2Score = L2(dfCurrVal, dfCurrTrain)\n",
        "        tabL1Score.append([L1Score, dfCurrTrain[3]])\n",
        "        tabL2Score.append([L2Score, dfCurrTrain[3]])\n",
        "      \n",
        "      # predict class of validation data\n",
        "      predClassL1 = mostFreqNeigh(tabL1Score, k)\n",
        "      predClassL2 = mostFreqNeigh(tabL2Score, k)\n",
        "      # print(predClass)\n",
        "      tabPredValL1.append(predClassL1)\n",
        "      tabPredValL2.append(predClassL2)\n",
        "\n",
        "    # print(tabPredVal)\n",
        "    # evaluation model with hyperparameter k\n",
        "    TP1, FN1, TN1, FP1 = evalModel(tabPredValL1, dfVal['y'])\n",
        "    TP2, FN2, TN2, FP2 = evalModel(tabPredValL2, dfVal['y'])\n",
        "\n",
        "    # confussion matrix\n",
        "    # confMat = [[TP, FP], [FN, TN]]\n",
        "    # print(confMat)\n",
        "    # recall\n",
        "    recall1 = TP1 / (TP1 + FN1)\n",
        "    recall2 = TP2 / (TP2 + FN2)\n",
        "    # print(recall)\n",
        "    # precision\n",
        "    precision1 = TP1 / (TP1 + FP1)\n",
        "    precision2 = TP2 / (TP2 + FP2)\n",
        "    # print(precision)\n",
        "    # f1-score\n",
        "    f1Score1 = 2 * precision1 * recall1 / (precision1 + recall1)\n",
        "    f1Score2 = 2 * precision2 * recall2 / (precision2 + recall2)\n",
        "    # print(f1Score)\n",
        "    # accuracy\n",
        "    accuracy1 = (TP1 + TN1) / (TP1 + FN1 + TN1 + FP1)\n",
        "    accuracy2 = (TP2 + TN2) / (TP2 + FN2 + TN2 + FP2)\n",
        "    # save f1-score based on hyperparameter k\n",
        "    tabKL1[k] = f1Score1\n",
        "    # tabKL1[k] = precision1\n",
        "    # tabKL1[k] = recall1 # recall score so high --> make f1 high too\n",
        "    # tabKL1[k] = accuracy1\n",
        "    tabKL2[k] = f1Score2\n",
        "    # tabKL2[k] = precision2\n",
        "    # tabKL2[k] = recall2\n",
        "    # tabKL2[k] = accuracy2\n",
        "\n",
        "  # average f1-score based on hyperparameter k\n",
        "  print('tab k for L1 (f1-score):')\n",
        "  print(tabKL1)\n",
        "  print('tab k for L2 (f1-score):')\n",
        "  print(tabKL2)\n",
        "  print()\n",
        "  for k in range(1, maxK, 2):\n",
        "    avgTabKL1[k] += tabKL1[k]\n",
        "    avgTabKL2[k] += tabKL2[k]\n",
        "\n",
        "\n",
        "for k in range(1, maxK, 2):\n",
        "  avgTabKL1[k] /= 5\n",
        "  avgTabKL2[k] /= 5\n",
        "\n",
        "print('avgTabK L1:')\n",
        "print(avgTabKL1)\n",
        "print('avgTabK L2:')\n",
        "print(avgTabKL2)"
      ]
    },
    {
      "cell_type": "markdown",
      "metadata": {
        "id": "8pCICeWyR4bQ"
      },
      "source": [
        "#### Visualize Average Validation Performance (f1 Score)"
      ]
    },
    {
      "cell_type": "code",
      "execution_count": 18,
      "metadata": {
        "id": "8NxZ7HpFSArt",
        "colab": {
          "base_uri": "https://localhost:8080/",
          "height": 458
        },
        "outputId": "38031535-2270-4851-bc2b-e729ce2c45a9"
      },
      "outputs": [
        {
          "output_type": "display_data",
          "data": {
            "text/plain": [
              "<Figure size 1440x504 with 1 Axes>"
            ],
            "image/png": "[encoded data removed]"
          },
          "metadata": {
            "needs_background": "light"
          }
        }
      ],
      "source": [
        "listK = [x for x in range(1, maxK, 2)]\n",
        "avg1 = avgTabKL1.copy()\n",
        "avg2 = avgTabKL2.copy()\n",
        "idx = 0\n",
        "while idx < len(avg1):\n",
        "  avg1.pop(idx)\n",
        "  avg2.pop(idx)\n",
        "  idx += 1\n",
        "\n",
        "plt.figure(figsize=(20, 7))\n",
        "plt.plot(listK, avg1, marker='o', color='blue', label='L1')\n",
        "plt.plot(listK, avg2, marker='o', color='green', label='L2')\n",
        "plt.title('Model Performance')\n",
        "plt.xlabel('Number of Neighbors k')\n",
        "plt.ylabel('Average f1-score')\n",
        "plt.grid(True)\n",
        "plt.xticks(listK)\n",
        "plt.legend()\n",
        "plt.show()"
      ]
    },
    {
      "cell_type": "markdown",
      "metadata": {
        "id": "RT3p_4rfSA-f"
      },
      "source": [
        "#### Get Best Hyperparameter (k)"
      ]
    },
    {
      "cell_type": "code",
      "execution_count": 19,
      "metadata": {
        "id": "y9HvmI1r52uN",
        "colab": {
          "base_uri": "https://localhost:8080/"
        },
        "outputId": "08cb64d7-88d2-400b-901c-6fcb4bb3c080"
      },
      "outputs": [
        {
          "output_type": "stream",
          "name": "stdout",
          "text": [
            "> L1:\n",
            "k: 1\n",
            "average f1-score: 0.8143318920280423\n",
            "> L2:\n",
            "k: 1\n",
            "average f1-score: 0.8213002228025909\n",
            "> best hyperparameter:\n",
            "k: 1\n",
            "distance: L2\n"
          ]
        }
      ],
      "source": [
        "bestKL1 = avgTabKL1.index(max(avgTabKL1))\n",
        "bestKL2 = avgTabKL2.index(max(avgTabKL2))\n",
        "print('> L1:')\n",
        "print('k:', bestKL1)\n",
        "print('average f1-score:', avgTabKL1[bestKL1])\n",
        "print('> L2:')\n",
        "print('k:', bestKL2)\n",
        "print('average f1-score:', avgTabKL2[bestKL2])\n",
        "\n",
        "bestK = 0\n",
        "distL = ''\n",
        "if avgTabKL1[bestKL1] > avgTabKL2[bestKL2]:\n",
        "  bestK = bestKL1\n",
        "  distL = 'L1'\n",
        "else:\n",
        "  bestK = bestKL2\n",
        "  distL = 'L2'\n",
        "\n",
        "print('> best hyperparameter:')\n",
        "print('k:', bestK)\n",
        "print('distance:', distL)"
      ]
    },
    {
      "cell_type": "markdown",
      "metadata": {
        "id": "AEDGwLqbSIcx"
      },
      "source": [
        "### Final Model"
      ]
    },
    {
      "cell_type": "code",
      "execution_count": 20,
      "metadata": {
        "id": "INBLQoYRSSZm"
      },
      "outputs": [],
      "source": [
        "# use best k\n",
        "# function for model\n",
        "  # output: y label\n",
        "\n",
        "def finalModel(dataTest, bestK, distL):\n",
        "  tabPredTest = []\n",
        "  for test in range(len(dataTest)):\n",
        "    tabLScore = []\n",
        "    dfCurrTest = dataTest.iloc[test]\n",
        "    for train in range(len(dfTrain)):\n",
        "      dfCurrTrain = dfTrain.iloc[train]\n",
        "      # save L score test data\n",
        "      if distL == 'L1':\n",
        "        LScore = L1(dfCurrTest, dfCurrTrain)\n",
        "      elif distL == 'L2':\n",
        "        LScore = L2(dfCurrTest, dfCurrTrain)\n",
        "\n",
        "      tabLScore.append([LScore, dfCurrTrain[3]])\n",
        "    \n",
        "    # predict class of test data\n",
        "    predClass = mostFreqNeigh(tabLScore, bestK)\n",
        "    # print(predClass)\n",
        "    tabPredTest.append(predClass)\n",
        "  \n",
        "  return tabPredTest"
      ]
    },
    {
      "cell_type": "markdown",
      "metadata": {
        "id": "qrCDNf-tSLO0"
      },
      "source": [
        "### Test Model on Test Data"
      ]
    },
    {
      "cell_type": "code",
      "execution_count": 21,
      "metadata": {
        "id": "7qhS1LlkMtzC",
        "colab": {
          "base_uri": "https://localhost:8080/"
        },
        "outputId": "2af2313d-89b5-4287-9402-e703ab5dfe07"
      },
      "outputs": [
        {
          "output_type": "execute_result",
          "data": {
            "text/plain": [
              "[1, 1, 1, 1, 1, 1, 1, 0, 1, 1]"
            ]
          },
          "metadata": {},
          "execution_count": 21
        }
      ],
      "source": [
        "finalModel(dfTest, bestK, distL)"
      ]
    },
    {
      "cell_type": "code",
      "execution_count": 22,
      "metadata": {
        "id": "LgiyFD55QB5K",
        "colab": {
          "base_uri": "https://localhost:8080/",
          "height": 363
        },
        "outputId": "d4ee6426-f8c9-472d-94bf-d64a79fcccec"
      },
      "outputs": [
        {
          "output_type": "execute_result",
          "data": {
            "text/plain": [
              "    id  x1  x2  x3  y\n",
              "0  297  43  59   2  1\n",
              "1  298  67  66   0  1\n",
              "2  299  58  60   3  1\n",
              "3  300  49  63   3  1\n",
              "4  301  45  60   0  1\n",
              "5  302  54  58   1  1\n",
              "6  303  56  66   3  1\n",
              "7  304  42  69   1  0\n",
              "8  305  50  59   2  1\n",
              "9  306  59  60   0  1"
            ],
            "text/html": [
              "\n",
              "  <div id=\"df-b26ee659-9d08-418a-a6d8-b70eb4f7428f\">\n",
              "    <div class=\"colab-df-container\">\n",
              "      <div>\n",
              "<style scoped>\n",
              "    .dataframe tbody tr th:only-of-type {\n",
              "        vertical-align: middle;\n",
              "    }\n",
              "\n",
              "    .dataframe tbody tr th {\n",
              "        vertical-align: top;\n",
              "    }\n",
              "\n",
              "    .dataframe thead th {\n",
              "        text-align: right;\n",
              "    }\n",
              "</style>\n",
              "<table border=\"1\" class=\"dataframe\">\n",
              "  <thead>\n",
              "    <tr style=\"text-align: right;\">\n",
              "      <th></th>\n",
              "      <th>id</th>\n",
              "      <th>x1</th>\n",
              "      <th>x2</th>\n",
              "      <th>x3</th>\n",
              "      <th>y</th>\n",
              "    </tr>\n",
              "  </thead>\n",
              "  <tbody>\n",
              "    <tr>\n",
              "      <th>0</th>\n",
              "      <td>297</td>\n",
              "      <td>43</td>\n",
              "      <td>59</td>\n",
              "      <td>2</td>\n",
              "      <td>1</td>\n",
              "    </tr>\n",
              "    <tr>\n",
              "      <th>1</th>\n",
              "      <td>298</td>\n",
              "      <td>67</td>\n",
              "      <td>66</td>\n",
              "      <td>0</td>\n",
              "      <td>1</td>\n",
              "    </tr>\n",
              "    <tr>\n",
              "      <th>2</th>\n",
              "      <td>299</td>\n",
              "      <td>58</td>\n",
              "      <td>60</td>\n",
              "      <td>3</td>\n",
              "      <td>1</td>\n",
              "    </tr>\n",
              "    <tr>\n",
              "      <th>3</th>\n",
              "      <td>300</td>\n",
              "      <td>49</td>\n",
              "      <td>63</td>\n",
              "      <td>3</td>\n",
              "      <td>1</td>\n",
              "    </tr>\n",
              "    <tr>\n",
              "      <th>4</th>\n",
              "      <td>301</td>\n",
              "      <td>45</td>\n",
              "      <td>60</td>\n",
              "      <td>0</td>\n",
              "      <td>1</td>\n",
              "    </tr>\n",
              "    <tr>\n",
              "      <th>5</th>\n",
              "      <td>302</td>\n",
              "      <td>54</td>\n",
              "      <td>58</td>\n",
              "      <td>1</td>\n",
              "      <td>1</td>\n",
              "    </tr>\n",
              "    <tr>\n",
              "      <th>6</th>\n",
              "      <td>303</td>\n",
              "      <td>56</td>\n",
              "      <td>66</td>\n",
              "      <td>3</td>\n",
              "      <td>1</td>\n",
              "    </tr>\n",
              "    <tr>\n",
              "      <th>7</th>\n",
              "      <td>304</td>\n",
              "      <td>42</td>\n",
              "      <td>69</td>\n",
              "      <td>1</td>\n",
              "      <td>0</td>\n",
              "    </tr>\n",
              "    <tr>\n",
              "      <th>8</th>\n",
              "      <td>305</td>\n",
              "      <td>50</td>\n",
              "      <td>59</td>\n",
              "      <td>2</td>\n",
              "      <td>1</td>\n",
              "    </tr>\n",
              "    <tr>\n",
              "      <th>9</th>\n",
              "      <td>306</td>\n",
              "      <td>59</td>\n",
              "      <td>60</td>\n",
              "      <td>0</td>\n",
              "      <td>1</td>\n",
              "    </tr>\n",
              "  </tbody>\n",
              "</table>\n",
              "</div>\n",
              "      <button class=\"colab-df-convert\" onclick=\"convertToInteractive('df-b26ee659-9d08-418a-a6d8-b70eb4f7428f')\"\n",
              "              title=\"Convert this dataframe to an interactive table.\"\n",
              "              style=\"display:none;\">\n",
              "        \n",
              "  <svg xmlns=\"http://www.w3.org/2000/svg\" height=\"24px\"viewBox=\"0 0 24 24\"\n",
              "       width=\"24px\">\n",
              "    <path d=\"M0 0h24v24H0V0z\" fill=\"none\"/>\n",
              "    <path d=\"M18.56 5.44l.94 2.06.94-2.06 2.06-.94-2.06-.94-.94-2.06-.94 2.06-2.06.94zm-11 1L8.5 8.5l.94-2.06 2.06-.94-2.06-.94L8.5 2.5l-.94 2.06-2.06.94zm10 10l.94 2.06.94-2.06 2.06-.94-2.06-.94-.94-2.06-.94 2.06-2.06.94z\"/><path d=\"M17.41 7.96l-1.37-1.37c-.4-.4-.92-.59-1.43-.59-.52 0-1.04.2-1.43.59L10.3 9.45l-7.72 7.72c-.78.78-.78 2.05 0 2.83L4 21.41c.39.39.9.59 1.41.59.51 0 1.02-.2 1.41-.59l7.78-7.78 2.81-2.81c.8-.78.8-2.07 0-2.86zM5.41 20L4 18.59l7.72-7.72 1.47 1.35L5.41 20z\"/>\n",
              "  </svg>\n",
              "      </button>\n",
              "      \n",
              "  <style>\n",
              "    .colab-df-container {\n",
              "      display:flex;\n",
              "      flex-wrap:wrap;\n",
              "      gap: 12px;\n",
              "    }\n",
              "\n",
              "    .colab-df-convert {\n",
              "      background-color: #E8F0FE;\n",
              "      border: none;\n",
              "      border-radius: 50%;\n",
              "      cursor: pointer;\n",
              "      display: none;\n",
              "      fill: #1967D2;\n",
              "      height: 32px;\n",
              "      padding: 0 0 0 0;\n",
              "      width: 32px;\n",
              "    }\n",
              "\n",
              "    .colab-df-convert:hover {\n",
              "      background-color: #E2EBFA;\n",
              "      box-shadow: 0px 1px 2px rgba(60, 64, 67, 0.3), 0px 1px 3px 1px rgba(60, 64, 67, 0.15);\n",
              "      fill: #174EA6;\n",
              "    }\n",
              "\n",
              "    [theme=dark] .colab-df-convert {\n",
              "      background-color: #3B4455;\n",
              "      fill: #D2E3FC;\n",
              "    }\n",
              "\n",
              "    [theme=dark] .colab-df-convert:hover {\n",
              "      background-color: #434B5C;\n",
              "      box-shadow: 0px 1px 3px 1px rgba(0, 0, 0, 0.15);\n",
              "      filter: drop-shadow(0px 1px 2px rgba(0, 0, 0, 0.3));\n",
              "      fill: #FFFFFF;\n",
              "    }\n",
              "  </style>\n",
              "\n",
              "      <script>\n",
              "        const buttonEl =\n",
              "          document.querySelector('#df-b26ee659-9d08-418a-a6d8-b70eb4f7428f button.colab-df-convert');\n",
              "        buttonEl.style.display =\n",
              "          google.colab.kernel.accessAllowed ? 'block' : 'none';\n",
              "\n",
              "        async function convertToInteractive(key) {\n",
              "          const element = document.querySelector('#df-b26ee659-9d08-418a-a6d8-b70eb4f7428f');\n",
              "          const dataTable =\n",
              "            await google.colab.kernel.invokeFunction('convertToInteractive',\n",
              "                                                     [key], {});\n",
              "          if (!dataTable) return;\n",
              "\n",
              "          const docLinkHtml = 'Like what you see? Visit the ' +\n",
              "            '<a target=\"_blank\" href=https://colab.research.google.com/notebooks/data_table.ipynb>data table notebook</a>'\n",
              "            + ' to learn more about interactive tables.';\n",
              "          element.innerHTML = '';\n",
              "          dataTable['output_type'] = 'display_data';\n",
              "          await google.colab.output.renderOutput(dataTable, element);\n",
              "          const docLink = document.createElement('div');\n",
              "          docLink.innerHTML = docLinkHtml;\n",
              "          element.appendChild(docLink);\n",
              "        }\n",
              "      </script>\n",
              "    </div>\n",
              "  </div>\n",
              "  "
            ]
          },
          "metadata": {},
          "execution_count": 22
        }
      ],
      "source": [
        "yPred = finalModel(dfTest, bestK, distL)\n",
        "id = [x for x in range(297, 307)]\n",
        "output = dfTest.copy()\n",
        "output.insert(0, 'id', id)\n",
        "output['y'] = yPred\n",
        "output"
      ]
    },
    {
      "cell_type": "markdown",
      "metadata": {
        "id": "X00QXphQ0TI3"
      },
      "source": [
        "### Save Output to Excel File"
      ]
    },
    {
      "cell_type": "code",
      "execution_count": 23,
      "metadata": {
        "id": "3_iW9ZH80akK"
      },
      "outputs": [],
      "source": [
        "output.to_excel('output.xlsx', index=False)"
      ]
    }
  ],
  "metadata": {
    "colab": {
      "collapsed_sections": [],
      "name": "Salinan dari k-Nearest Neighbor.ipynb",
      "provenance": []
    },
    "gpuClass": "standard",
    "kernelspec": {
      "display_name": "Python 3",
      "name": "python3"
    },
    "language_info": {
      "name": "python"
    }
  },
  "nbformat": 4,
  "nbformat_minor": 0
}